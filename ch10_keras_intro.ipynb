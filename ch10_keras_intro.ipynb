{
 "cells": [
  {
   "cell_type": "code",
   "execution_count": 83,
   "metadata": {},
   "outputs": [],
   "source": [
    "import tensorflow as tf\n",
    "from tensorflow import keras\n"
   ]
  },
  {
   "cell_type": "code",
   "execution_count": 5,
   "metadata": {},
   "outputs": [
    {
     "data": {
      "text/plain": [
       "'2.10.0'"
      ]
     },
     "execution_count": 5,
     "metadata": {},
     "output_type": "execute_result"
    }
   ],
   "source": [
    "tf.__version__\n",
    "keras.__version__"
   ]
  },
  {
   "cell_type": "markdown",
   "metadata": {},
   "source": []
  },
  {
   "cell_type": "code",
   "execution_count": 6,
   "metadata": {},
   "outputs": [
    {
     "name": "stdout",
     "output_type": "stream",
     "text": [
      "Downloading data from https://storage.googleapis.com/tensorflow/tf-keras-datasets/train-labels-idx1-ubyte.gz\n",
      "29515/29515 [==============================] - 0s 1us/step\n",
      "Downloading data from https://storage.googleapis.com/tensorflow/tf-keras-datasets/train-images-idx3-ubyte.gz\n",
      "26421880/26421880 [==============================] - 4s 0us/step\n",
      "Downloading data from https://storage.googleapis.com/tensorflow/tf-keras-datasets/t10k-labels-idx1-ubyte.gz\n",
      "5148/5148 [==============================] - 0s 0us/step\n",
      "Downloading data from https://storage.googleapis.com/tensorflow/tf-keras-datasets/t10k-images-idx3-ubyte.gz\n",
      "4422102/4422102 [==============================] - 1s 0us/step\n"
     ]
    }
   ],
   "source": [
    "fashion_mnist = keras.datasets.fashion_mnist\n",
    "(X_train_full, y_train_full), (X_test, y_test) = fashion_mnist.load_data()"
   ]
  },
  {
   "attachments": {},
   "cell_type": "markdown",
   "metadata": {},
   "source": [
    "Keras originally stores the image arrays as 28x28 matrices w/ pixel intensities represented as integers"
   ]
  },
  {
   "cell_type": "code",
   "execution_count": 9,
   "metadata": {},
   "outputs": [],
   "source": [
    "X_valid, X_train = X_train_full[:5000] / 255.0, X_train_full[5000:] / 255.0\n",
    "y_valid, y_train = y_train_full[:5000], y_train_full[5000:]\n",
    "\n",
    "class_names = [\"T-shirt/top\", \"Trouser\", \"Pullover\", \"Dress\", \"Coat\",\n",
    "                   \"Sandal\", \"Shirt\", \"Sneaker\", \"Bag\", \"Ankle boot\"]"
   ]
  },
  {
   "attachments": {},
   "cell_type": "markdown",
   "metadata": {},
   "source": [
    "Creating the Model Using the Sequential API\n",
    "- A Sequential model is the simplest kind of Keras model, for NNs composed of single stack of layers, connected sequentially\n",
    "- Flatten layer converts input image to 1D array\n",
    "    - input layer, doesn't have parameters, just preprocessing\n",
    "- Dense hidden layer manages its own weight matrix and vector of bias terms\n",
    "- Final layer is dense output w/ 1 neuron per clas using softmax since the classes are exclusive"
   ]
  },
  {
   "cell_type": "code",
   "execution_count": 14,
   "metadata": {},
   "outputs": [
    {
     "name": "stdout",
     "output_type": "stream",
     "text": [
      "Model: \"sequential_3\"\n",
      "_________________________________________________________________\n",
      " Layer (type)                Output Shape              Param #   \n",
      "=================================================================\n",
      " flatten_3 (Flatten)         (None, 784)               0         \n",
      "                                                                 \n",
      " dense_9 (Dense)             (None, 300)               235500    \n",
      "                                                                 \n",
      " dense_10 (Dense)            (None, 100)               30100     \n",
      "                                                                 \n",
      " dense_11 (Dense)            (None, 10)                1010      \n",
      "                                                                 \n",
      "=================================================================\n",
      "Total params: 266,610\n",
      "Trainable params: 266,610\n",
      "Non-trainable params: 0\n",
      "_________________________________________________________________\n"
     ]
    }
   ],
   "source": [
    "model = keras.models.Sequential()\n",
    "model.add(keras.layers.Flatten(input_shape=[28, 28]))\n",
    "model.add(keras.layers.Dense(300, activation = \"relu\"))\n",
    "model.add(keras.layers.Dense(100, activation = \"relu\"))\n",
    "model.add(keras.layers.Dense(10, activation = \"softmax\"))\n",
    "model.summary()"
   ]
  },
  {
   "cell_type": "code",
   "execution_count": 23,
   "metadata": {},
   "outputs": [],
   "source": [
    "model.layers\n",
    "hidden1 = model.layers[1].name\n",
    "weights, biases = model.get_layer(hidden1).get_weights()"
   ]
  },
  {
   "attachments": {},
   "cell_type": "markdown",
   "metadata": {},
   "source": [
    "Model weights are initialized randomly to break symmetry, w/ biases initialized to zero. A different initialization method can be set with kernel_initializer or bias_initializer"
   ]
  },
  {
   "cell_type": "code",
   "execution_count": 54,
   "metadata": {},
   "outputs": [],
   "source": [
    "model.compile(loss=tf.keras.losses.SparseCategoricalCrossentropy(),\n",
    "              optimizer = \"sgd\",\n",
    "              metrics=[\"accuracy\"])\n",
    "model_cloned = keras.models.clone_model(model)\n",
    "model_cloned.compile(loss=\"sparse_categorical_crossentropy\",\n",
    "              optimizer = \"sgd\",\n",
    "              metrics=[\"accuracy\"])"
   ]
  },
  {
   "attachments": {},
   "cell_type": "markdown",
   "metadata": {},
   "source": [
    "We will use many other losses, optimizers and met‐ rics in this book, but for the full lists see https://keras.io/losses/, https://keras.io/optimizers/ and https://keras.io/metrics/ \\\n",
    "First, we use the \"sparse_categorical_crossen tropy\" loss because we have sparse labels (i.e., for each instance there is just a target class index, from 0 to 9 in this case), and the classes are exclusive. If instead we had one target probability per class for each instance (such as one-hot vectors, e.g. [0., 0., 0., 1., 0., 0., 0., 0., 0., 0.] to represent class 3), then we would need to use the \"categorical_crossentropy\" loss instead. If we were doing binary classi‐ fication (with one or more binary labels), then we would use the \"sigmoid\" (i.e., logistic) activation function in the output layer instead of the \"softmax\" activation function, and we would use the \"binary_crossentropy\" loss\n"
   ]
  },
  {
   "attachments": {},
   "cell_type": "markdown",
   "metadata": {},
   "source": [
    "* Can convert sparse labels (class indices) to one-hot vector labesl w/ keras.utils.to_categorical() or np.argmax() fcn w/ axis = 1"
   ]
  },
  {
   "attachments": {},
   "cell_type": "markdown",
   "metadata": {},
   "source": [
    "\"sgd\" means model will be trained with Stochastic Gradient Descent to perform backpropagation"
   ]
  },
  {
   "attachments": {},
   "cell_type": "markdown",
   "metadata": {},
   "source": [
    "### Training and Evaluating the Model\n",
    "Model is ready to be trained w/ fit()"
   ]
  },
  {
   "cell_type": "code",
   "execution_count": 55,
   "metadata": {},
   "outputs": [
    {
     "name": "stdout",
     "output_type": "stream",
     "text": [
      "Epoch 1/50\n",
      "1719/1719 [==============================] - 10s 5ms/step - loss: 0.0794 - accuracy: 0.9735 - val_loss: 0.3367 - val_accuracy: 0.8982\n",
      "Epoch 2/50\n",
      "1719/1719 [==============================] - 8s 5ms/step - loss: 0.0797 - accuracy: 0.9723 - val_loss: 0.3471 - val_accuracy: 0.8978\n",
      "Epoch 3/50\n",
      "1719/1719 [==============================] - 10s 6ms/step - loss: 0.0796 - accuracy: 0.9735 - val_loss: 0.3451 - val_accuracy: 0.8992\n",
      "Epoch 4/50\n",
      "1719/1719 [==============================] - 13s 8ms/step - loss: 0.0773 - accuracy: 0.9735 - val_loss: 0.3433 - val_accuracy: 0.8994\n",
      "Epoch 5/50\n",
      "1719/1719 [==============================] - 7s 4ms/step - loss: 0.0754 - accuracy: 0.9745 - val_loss: 0.3452 - val_accuracy: 0.9018\n",
      "Epoch 6/50\n",
      "1719/1719 [==============================] - 7s 4ms/step - loss: 0.0752 - accuracy: 0.9738 - val_loss: 0.3928 - val_accuracy: 0.8900\n",
      "Epoch 7/50\n",
      "1719/1719 [==============================] - 6s 4ms/step - loss: 0.0739 - accuracy: 0.9751 - val_loss: 0.3435 - val_accuracy: 0.8992\n",
      "Epoch 8/50\n",
      "1719/1719 [==============================] - 6s 3ms/step - loss: 0.0718 - accuracy: 0.9756 - val_loss: 0.3544 - val_accuracy: 0.8996\n",
      "Epoch 9/50\n",
      "1719/1719 [==============================] - 7s 4ms/step - loss: 0.0704 - accuracy: 0.9766 - val_loss: 0.3432 - val_accuracy: 0.8994\n",
      "Epoch 10/50\n",
      "1719/1719 [==============================] - 7s 4ms/step - loss: 0.0686 - accuracy: 0.9769 - val_loss: 0.3846 - val_accuracy: 0.8934\n",
      "Epoch 11/50\n",
      "1719/1719 [==============================] - 10s 6ms/step - loss: 0.0680 - accuracy: 0.9768 - val_loss: 0.3473 - val_accuracy: 0.9026\n",
      "Epoch 12/50\n",
      "1719/1719 [==============================] - 8s 5ms/step - loss: 0.0665 - accuracy: 0.9779 - val_loss: 0.3548 - val_accuracy: 0.9032\n",
      "Epoch 13/50\n",
      "1719/1719 [==============================] - 9s 5ms/step - loss: 0.0660 - accuracy: 0.9779 - val_loss: 0.3747 - val_accuracy: 0.9018\n",
      "Epoch 14/50\n",
      "1719/1719 [==============================] - 9s 5ms/step - loss: 0.0660 - accuracy: 0.9781 - val_loss: 0.3898 - val_accuracy: 0.8918\n",
      "Epoch 15/50\n",
      "1719/1719 [==============================] - 8s 5ms/step - loss: 0.0630 - accuracy: 0.9788 - val_loss: 0.3783 - val_accuracy: 0.8964\n",
      "Epoch 16/50\n",
      "1719/1719 [==============================] - 9s 5ms/step - loss: 0.0606 - accuracy: 0.9803 - val_loss: 0.3690 - val_accuracy: 0.8966\n",
      "Epoch 17/50\n",
      "1719/1719 [==============================] - 10s 6ms/step - loss: 0.0609 - accuracy: 0.9799 - val_loss: 0.3885 - val_accuracy: 0.8980\n",
      "Epoch 18/50\n",
      "1719/1719 [==============================] - 8s 5ms/step - loss: 0.0602 - accuracy: 0.9804 - val_loss: 0.3741 - val_accuracy: 0.8998\n",
      "Epoch 19/50\n",
      "1719/1719 [==============================] - 8s 5ms/step - loss: 0.0587 - accuracy: 0.9805 - val_loss: 0.3853 - val_accuracy: 0.8926\n",
      "Epoch 20/50\n",
      "1719/1719 [==============================] - 11s 6ms/step - loss: 0.0580 - accuracy: 0.9808 - val_loss: 0.3657 - val_accuracy: 0.8978\n",
      "Epoch 21/50\n",
      "1719/1719 [==============================] - 9s 5ms/step - loss: 0.0558 - accuracy: 0.9815 - val_loss: 0.3832 - val_accuracy: 0.9000\n",
      "Epoch 22/50\n",
      "1719/1719 [==============================] - 8s 4ms/step - loss: 0.0542 - accuracy: 0.9826 - val_loss: 0.4137 - val_accuracy: 0.8936\n",
      "Epoch 23/50\n",
      "1719/1719 [==============================] - 8s 5ms/step - loss: 0.0533 - accuracy: 0.9828 - val_loss: 0.3957 - val_accuracy: 0.8920\n",
      "Epoch 24/50\n",
      "1719/1719 [==============================] - 10s 6ms/step - loss: 0.0523 - accuracy: 0.9833 - val_loss: 0.3890 - val_accuracy: 0.8984\n",
      "Epoch 25/50\n",
      "1719/1719 [==============================] - 7s 4ms/step - loss: 0.0514 - accuracy: 0.9830 - val_loss: 0.4041 - val_accuracy: 0.8968\n",
      "Epoch 26/50\n",
      "1719/1719 [==============================] - 8s 5ms/step - loss: 0.0511 - accuracy: 0.9832 - val_loss: 0.3938 - val_accuracy: 0.8936\n",
      "Epoch 27/50\n",
      "1719/1719 [==============================] - 7s 4ms/step - loss: 0.0510 - accuracy: 0.9832 - val_loss: 0.4264 - val_accuracy: 0.8952\n",
      "Epoch 28/50\n",
      "1719/1719 [==============================] - 6s 4ms/step - loss: 0.0508 - accuracy: 0.9834 - val_loss: 0.3886 - val_accuracy: 0.9008\n",
      "Epoch 29/50\n",
      "1719/1719 [==============================] - 8s 4ms/step - loss: 0.0479 - accuracy: 0.9846 - val_loss: 0.4272 - val_accuracy: 0.8908\n",
      "Epoch 30/50\n",
      "1719/1719 [==============================] - 9s 5ms/step - loss: 0.0480 - accuracy: 0.9847 - val_loss: 0.4008 - val_accuracy: 0.8994\n",
      "Epoch 31/50\n",
      "1719/1719 [==============================] - 9s 5ms/step - loss: 0.0472 - accuracy: 0.9848 - val_loss: 0.4177 - val_accuracy: 0.8968\n",
      "Epoch 32/50\n",
      "1719/1719 [==============================] - 7s 4ms/step - loss: 0.0469 - accuracy: 0.9850 - val_loss: 0.4223 - val_accuracy: 0.9010\n",
      "Epoch 33/50\n",
      "1719/1719 [==============================] - 6s 3ms/step - loss: 0.0445 - accuracy: 0.9860 - val_loss: 0.4148 - val_accuracy: 0.8964\n",
      "Epoch 34/50\n",
      "1719/1719 [==============================] - 8s 5ms/step - loss: 0.0459 - accuracy: 0.9853 - val_loss: 0.4161 - val_accuracy: 0.8920\n",
      "Epoch 35/50\n",
      "1719/1719 [==============================] - 7s 4ms/step - loss: 0.0433 - accuracy: 0.9857 - val_loss: 0.4213 - val_accuracy: 0.8960\n",
      "Epoch 36/50\n",
      "1719/1719 [==============================] - 8s 5ms/step - loss: 0.0428 - accuracy: 0.9865 - val_loss: 0.4058 - val_accuracy: 0.8988\n",
      "Epoch 37/50\n",
      "1719/1719 [==============================] - 6s 3ms/step - loss: 0.0408 - accuracy: 0.9870 - val_loss: 0.4420 - val_accuracy: 0.8866\n",
      "Epoch 38/50\n",
      "1719/1719 [==============================] - 5s 3ms/step - loss: 0.0407 - accuracy: 0.9870 - val_loss: 0.4108 - val_accuracy: 0.8996\n",
      "Epoch 39/50\n",
      "1719/1719 [==============================] - 6s 3ms/step - loss: 0.0402 - accuracy: 0.9875 - val_loss: 0.3985 - val_accuracy: 0.8976\n",
      "Epoch 40/50\n",
      "1719/1719 [==============================] - 7s 4ms/step - loss: 0.0405 - accuracy: 0.9871 - val_loss: 0.4397 - val_accuracy: 0.8946\n",
      "Epoch 41/50\n",
      "1719/1719 [==============================] - 6s 4ms/step - loss: 0.0402 - accuracy: 0.9870 - val_loss: 0.4232 - val_accuracy: 0.8998\n",
      "Epoch 42/50\n",
      "1719/1719 [==============================] - 5s 3ms/step - loss: 0.0393 - accuracy: 0.9879 - val_loss: 0.4331 - val_accuracy: 0.8974\n",
      "Epoch 43/50\n",
      "1719/1719 [==============================] - 6s 4ms/step - loss: 0.0373 - accuracy: 0.9880 - val_loss: 0.4385 - val_accuracy: 0.8994\n",
      "Epoch 44/50\n",
      "1719/1719 [==============================] - 7s 4ms/step - loss: 0.0344 - accuracy: 0.9897 - val_loss: 0.4324 - val_accuracy: 0.8976\n",
      "Epoch 45/50\n",
      "1719/1719 [==============================] - 6s 3ms/step - loss: 0.0342 - accuracy: 0.9898 - val_loss: 0.4359 - val_accuracy: 0.8958\n",
      "Epoch 46/50\n",
      "1719/1719 [==============================] - 6s 4ms/step - loss: 0.0344 - accuracy: 0.9893 - val_loss: 0.4268 - val_accuracy: 0.9014\n",
      "Epoch 47/50\n",
      "1719/1719 [==============================] - 6s 4ms/step - loss: 0.0337 - accuracy: 0.9895 - val_loss: 0.4438 - val_accuracy: 0.8970\n",
      "Epoch 48/50\n",
      "1719/1719 [==============================] - 7s 4ms/step - loss: 0.0330 - accuracy: 0.9899 - val_loss: 0.4256 - val_accuracy: 0.8998\n",
      "Epoch 49/50\n",
      "1719/1719 [==============================] - 6s 4ms/step - loss: 0.0308 - accuracy: 0.9907 - val_loss: 0.4479 - val_accuracy: 0.8982\n",
      "Epoch 50/50\n",
      "1719/1719 [==============================] - 7s 4ms/step - loss: 0.0292 - accuracy: 0.9917 - val_loss: 0.4432 - val_accuracy: 0.9026\n"
     ]
    }
   ],
   "source": [
    "history = model.fit(X_train, y_train, epochs = 50,\n",
    "                    validation_data = (X_valid, y_valid),\n",
    "                    workers=2)"
   ]
  },
  {
   "cell_type": "code",
   "execution_count": 44,
   "metadata": {},
   "outputs": [
    {
     "name": "stdout",
     "output_type": "stream",
     "text": [
      "Epoch 1/30\n",
      "1719/1719 [==============================] - 8s 5ms/step - loss: 0.7060 - accuracy: 0.7658 - val_loss: 0.4935 - val_accuracy: 0.8370\n",
      "Epoch 2/30\n",
      "1719/1719 [==============================] - 6s 3ms/step - loss: 0.4894 - accuracy: 0.8313 - val_loss: 0.4423 - val_accuracy: 0.8504\n",
      "Epoch 3/30\n",
      "1719/1719 [==============================] - 7s 4ms/step - loss: 0.4447 - accuracy: 0.8438 - val_loss: 0.4214 - val_accuracy: 0.8572\n",
      "Epoch 4/30\n",
      "1719/1719 [==============================] - 8s 5ms/step - loss: 0.4169 - accuracy: 0.8536 - val_loss: 0.4310 - val_accuracy: 0.8534\n",
      "Epoch 5/30\n",
      "1719/1719 [==============================] - 8s 5ms/step - loss: 0.3979 - accuracy: 0.8598 - val_loss: 0.4044 - val_accuracy: 0.8588\n",
      "Epoch 6/30\n",
      "1719/1719 [==============================] - 8s 5ms/step - loss: 0.3798 - accuracy: 0.8647 - val_loss: 0.3736 - val_accuracy: 0.8692\n",
      "Epoch 7/30\n",
      "1719/1719 [==============================] - 9s 5ms/step - loss: 0.3669 - accuracy: 0.8699 - val_loss: 0.3785 - val_accuracy: 0.8630\n",
      "Epoch 8/30\n",
      "1719/1719 [==============================] - 10s 6ms/step - loss: 0.3553 - accuracy: 0.8737 - val_loss: 0.3573 - val_accuracy: 0.8784\n",
      "Epoch 9/30\n",
      "1719/1719 [==============================] - 10s 6ms/step - loss: 0.3440 - accuracy: 0.8774 - val_loss: 0.3638 - val_accuracy: 0.8686\n",
      "Epoch 10/30\n",
      "1719/1719 [==============================] - 8s 4ms/step - loss: 0.3344 - accuracy: 0.8812 - val_loss: 0.3395 - val_accuracy: 0.8776\n",
      "Epoch 11/30\n",
      "1719/1719 [==============================] - 8s 4ms/step - loss: 0.3256 - accuracy: 0.8829 - val_loss: 0.3355 - val_accuracy: 0.8810\n",
      "Epoch 12/30\n",
      "1719/1719 [==============================] - 9s 5ms/step - loss: 0.3169 - accuracy: 0.8860 - val_loss: 0.3467 - val_accuracy: 0.8742\n",
      "Epoch 13/30\n",
      "1719/1719 [==============================] - 10s 6ms/step - loss: 0.3098 - accuracy: 0.8885 - val_loss: 0.3300 - val_accuracy: 0.8800\n",
      "Epoch 14/30\n",
      "1719/1719 [==============================] - 9s 5ms/step - loss: 0.3035 - accuracy: 0.8916 - val_loss: 0.3276 - val_accuracy: 0.8818\n",
      "Epoch 15/30\n",
      "1719/1719 [==============================] - 11s 6ms/step - loss: 0.2967 - accuracy: 0.8930 - val_loss: 0.3309 - val_accuracy: 0.8780\n",
      "Epoch 16/30\n",
      "1719/1719 [==============================] - 12s 7ms/step - loss: 0.2904 - accuracy: 0.8960 - val_loss: 0.3485 - val_accuracy: 0.8740\n",
      "Epoch 17/30\n",
      "1719/1719 [==============================] - 17s 10ms/step - loss: 0.2856 - accuracy: 0.8972 - val_loss: 0.3327 - val_accuracy: 0.8806\n",
      "Epoch 18/30\n",
      "1719/1719 [==============================] - 21s 12ms/step - loss: 0.2799 - accuracy: 0.8990 - val_loss: 0.3192 - val_accuracy: 0.8824\n",
      "Epoch 19/30\n",
      "1719/1719 [==============================] - 24s 14ms/step - loss: 0.2742 - accuracy: 0.9018 - val_loss: 0.3337 - val_accuracy: 0.8784\n",
      "Epoch 20/30\n",
      "1719/1719 [==============================] - 17s 10ms/step - loss: 0.2698 - accuracy: 0.9035 - val_loss: 0.3135 - val_accuracy: 0.8838\n",
      "Epoch 21/30\n",
      "1719/1719 [==============================] - 9s 5ms/step - loss: 0.2646 - accuracy: 0.9051 - val_loss: 0.3271 - val_accuracy: 0.8850\n",
      "Epoch 22/30\n",
      "1719/1719 [==============================] - 11s 7ms/step - loss: 0.2598 - accuracy: 0.9080 - val_loss: 0.3390 - val_accuracy: 0.8760\n",
      "Epoch 23/30\n",
      "1719/1719 [==============================] - 18s 11ms/step - loss: 0.2558 - accuracy: 0.9076 - val_loss: 0.3180 - val_accuracy: 0.8864\n",
      "Epoch 24/30\n",
      "1719/1719 [==============================] - 20s 12ms/step - loss: 0.2511 - accuracy: 0.9100 - val_loss: 0.3028 - val_accuracy: 0.8890\n",
      "Epoch 25/30\n",
      "1719/1719 [==============================] - 17s 10ms/step - loss: 0.2472 - accuracy: 0.9105 - val_loss: 0.3163 - val_accuracy: 0.8876\n",
      "Epoch 26/30\n",
      "1719/1719 [==============================] - 10s 6ms/step - loss: 0.2431 - accuracy: 0.9121 - val_loss: 0.3171 - val_accuracy: 0.8862\n",
      "Epoch 27/30\n",
      "1719/1719 [==============================] - 11s 6ms/step - loss: 0.2391 - accuracy: 0.9143 - val_loss: 0.3095 - val_accuracy: 0.8910\n",
      "Epoch 28/30\n",
      "1719/1719 [==============================] - 9s 6ms/step - loss: 0.2350 - accuracy: 0.9151 - val_loss: 0.2987 - val_accuracy: 0.8898\n",
      "Epoch 29/30\n",
      "1719/1719 [==============================] - 9s 5ms/step - loss: 0.2305 - accuracy: 0.9181 - val_loss: 0.2944 - val_accuracy: 0.8920\n",
      "Epoch 30/30\n",
      "1719/1719 [==============================] - 10s 6ms/step - loss: 0.2274 - accuracy: 0.9186 - val_loss: 0.3056 - val_accuracy: 0.8894\n"
     ]
    }
   ],
   "source": [
    "history_cloned = model_cloned.fit(X_train, y_train, epochs = 30,\n",
    "                    validation_data = (X_valid, y_valid),\n",
    "                    workers=2)"
   ]
  },
  {
   "attachments": {},
   "cell_type": "markdown",
   "metadata": {},
   "source": [
    "History object returned by fit() contains training params(history.params), epochs (history.epcoch), and a dictionary (history.history) containing the loss and extra metrics measured at the end of each epoch. Can use Pandas to plot"
   ]
  },
  {
   "cell_type": "code",
   "execution_count": 38,
   "metadata": {},
   "outputs": [],
   "source": [
    "import pandas as pd\n",
    "import matplotlib.pyplot as plt"
   ]
  },
  {
   "cell_type": "code",
   "execution_count": 56,
   "metadata": {},
   "outputs": [
    {
     "data": {
      "image/png": "[encoded data removed]",
      "text/plain": [
       "<Figure size 400x300 with 1 Axes>"
      ]
     },
     "metadata": {},
     "output_type": "display_data"
    },
    {
     "data": {
      "image/png": "[encoded data removed]",
      "text/plain": [
       "<Figure size 400x300 with 1 Axes>"
      ]
     },
     "metadata": {},
     "output_type": "display_data"
    }
   ],
   "source": [
    "pd.DataFrame(history.history).plot(figsize = (4,3))\n",
    "pd.DataFrame(history_cloned.history).plot(figsize=(4,3))\n",
    "plt.grid(True)\n",
    "plt.gca().set_ylim(0, 1)\n",
    "plt.show()"
   ]
  },
  {
   "attachments": {},
   "cell_type": "markdown",
   "metadata": {},
   "source": [
    "model was trained more compared with model_cloned. it should perform much better"
   ]
  },
  {
   "cell_type": "code",
   "execution_count": 48,
   "metadata": {},
   "outputs": [
    {
     "name": "stdout",
     "output_type": "stream",
     "text": [
      "313/313 [==============================] - 2s 4ms/step - loss: 99.0828 - accuracy: 0.8518\n"
     ]
    },
    {
     "data": {
      "text/plain": [
       "[99.08284759521484, 0.8518000245094299]"
      ]
     },
     "execution_count": 48,
     "metadata": {},
     "output_type": "execute_result"
    }
   ],
   "source": [
    "model.evaluate(X_test, y_test)"
   ]
  },
  {
   "attachments": {},
   "cell_type": "markdown",
   "metadata": {},
   "source": [
    "### Using the Model to Make Predictions"
   ]
  },
  {
   "cell_type": "code",
   "execution_count": 53,
   "metadata": {},
   "outputs": [
    {
     "name": "stdout",
     "output_type": "stream",
     "text": [
      "1/1 [==============================] - 0s 41ms/step\n"
     ]
    },
    {
     "data": {
      "text/plain": [
       "array([[0., 0., 0., 0., 0., 0., 0., 0., 0., 1.],\n",
       "       [0., 0., 1., 0., 0., 0., 0., 0., 0., 0.],\n",
       "       [0., 1., 0., 0., 0., 0., 0., 0., 0., 0.]], dtype=float32)"
      ]
     },
     "execution_count": 53,
     "metadata": {},
     "output_type": "execute_result"
    }
   ],
   "source": [
    "X_new = X_test[:3]\n",
    "y_prob = model.predict(X_new)\n",
    "y_prob.round(2)"
   ]
  },
  {
   "attachments": {},
   "cell_type": "markdown",
   "metadata": {},
   "source": [
    "# Building a Regression MLP Using the Sequential API\n",
    "- Main differences between building classification and regression:\n",
    "    - Output layer has a single neuron (to predict a single value)\n",
    "    - Uses no activation function\n",
    "    - Loss function is mean squared error"
   ]
  },
  {
   "cell_type": "code",
   "execution_count": 138,
   "metadata": {},
   "outputs": [],
   "source": [
    "from sklearn.datasets import fetch_california_housing\n",
    "from sklearn.model_selection import train_test_split\n",
    "from sklearn.preprocessing import StandardScaler"
   ]
  },
  {
   "cell_type": "code",
   "execution_count": 151,
   "metadata": {},
   "outputs": [],
   "source": [
    "housing = fetch_california_housing()\n",
    "\n",
    "X_train_full, X_test, y_train_full, y_test = train_test_split(\n",
    "    housing.data, housing.target\n",
    ")\n",
    "X_train, X_valid, y_train, y_valid = train_test_split(\n",
    "    X_train_full, y_train_full\n",
    ")\n",
    "scaler = StandardScaler()\n",
    "X_train_scaled = scaler.fit_transform(X_train)\n",
    "X_valid_scaled = scaler.transform(X_valid)\n",
    "X_test_scaled = scaler.transform(X_test)"
   ]
  },
  {
   "cell_type": "code",
   "execution_count": 103,
   "metadata": {},
   "outputs": [
    {
     "name": "stdout",
     "output_type": "stream",
     "text": [
      "Epoch 1/50\n",
      "363/363 [==============================] - 2s 3ms/step - loss: 1.1087 - val_loss: 0.8258\n",
      "Epoch 2/50\n",
      "363/363 [==============================] - 1s 2ms/step - loss: 0.5665 - val_loss: 0.5096\n",
      "Epoch 3/50\n",
      "363/363 [==============================] - 1s 2ms/step - loss: 0.4997 - val_loss: 0.4841\n",
      "Epoch 4/50\n",
      "363/363 [==============================] - 1s 2ms/step - loss: 0.4734 - val_loss: 0.4566\n",
      "Epoch 5/50\n",
      "363/363 [==============================] - 1s 2ms/step - loss: 0.4576 - val_loss: 0.4478\n",
      "Epoch 6/50\n",
      "363/363 [==============================] - 1s 2ms/step - loss: 0.4478 - val_loss: 0.4369\n",
      "Epoch 7/50\n",
      "363/363 [==============================] - 1s 2ms/step - loss: 0.4414 - val_loss: 0.4299\n",
      "Epoch 8/50\n",
      "363/363 [==============================] - 1s 3ms/step - loss: 0.4354 - val_loss: 0.4262\n",
      "Epoch 9/50\n",
      "363/363 [==============================] - 1s 2ms/step - loss: 0.4307 - val_loss: 0.4203\n",
      "Epoch 10/50\n",
      "363/363 [==============================] - 1s 3ms/step - loss: 0.4259 - val_loss: 0.4155\n",
      "Epoch 11/50\n",
      "363/363 [==============================] - 1s 2ms/step - loss: 0.4207 - val_loss: 0.4102\n",
      "Epoch 12/50\n",
      "363/363 [==============================] - 1s 2ms/step - loss: 0.4164 - val_loss: 0.4129\n",
      "Epoch 13/50\n",
      "363/363 [==============================] - 1s 3ms/step - loss: 0.4127 - val_loss: 0.4065\n",
      "Epoch 14/50\n",
      "363/363 [==============================] - 1s 3ms/step - loss: 0.4087 - val_loss: 0.4031\n",
      "Epoch 15/50\n",
      "363/363 [==============================] - 2s 4ms/step - loss: 0.4064 - val_loss: 0.3961\n",
      "Epoch 16/50\n",
      "363/363 [==============================] - 2s 5ms/step - loss: 0.4033 - val_loss: 0.3978\n",
      "Epoch 17/50\n",
      "363/363 [==============================] - 1s 4ms/step - loss: 0.4006 - val_loss: 0.3967\n",
      "Epoch 18/50\n",
      "363/363 [==============================] - 2s 5ms/step - loss: 0.3979 - val_loss: 0.3905\n",
      "Epoch 19/50\n",
      "363/363 [==============================] - 1s 4ms/step - loss: 0.4000 - val_loss: 0.3922\n",
      "Epoch 20/50\n",
      "363/363 [==============================] - 1s 4ms/step - loss: 0.3938 - val_loss: 0.3921\n",
      "Epoch 21/50\n",
      "363/363 [==============================] - 1s 2ms/step - loss: 0.3913 - val_loss: 0.3852\n",
      "Epoch 22/50\n",
      "363/363 [==============================] - 1s 2ms/step - loss: 0.3897 - val_loss: 0.3816\n",
      "Epoch 23/50\n",
      "363/363 [==============================] - 1s 3ms/step - loss: 0.3884 - val_loss: 0.3817\n",
      "Epoch 24/50\n",
      "363/363 [==============================] - 1s 2ms/step - loss: 0.3863 - val_loss: 0.3780\n",
      "Epoch 25/50\n",
      "363/363 [==============================] - 1s 2ms/step - loss: 0.3847 - val_loss: 0.3792\n",
      "Epoch 26/50\n",
      "363/363 [==============================] - 1s 2ms/step - loss: 0.3831 - val_loss: 0.3807\n",
      "Epoch 27/50\n",
      "363/363 [==============================] - 1s 3ms/step - loss: 0.3817 - val_loss: 0.3782\n",
      "Epoch 28/50\n",
      "363/363 [==============================] - 1s 2ms/step - loss: 0.3806 - val_loss: 0.3850\n",
      "Epoch 29/50\n",
      "363/363 [==============================] - 1s 2ms/step - loss: 0.3792 - val_loss: 0.3768\n",
      "Epoch 30/50\n",
      "363/363 [==============================] - 1s 3ms/step - loss: 0.3783 - val_loss: 0.3769\n",
      "Epoch 31/50\n",
      "363/363 [==============================] - 1s 2ms/step - loss: 0.3784 - val_loss: 0.3723\n",
      "Epoch 32/50\n",
      "363/363 [==============================] - 1s 2ms/step - loss: 0.3773 - val_loss: 0.3683\n",
      "Epoch 33/50\n",
      "363/363 [==============================] - 1s 3ms/step - loss: 0.3748 - val_loss: 0.3747\n",
      "Epoch 34/50\n",
      "363/363 [==============================] - 1s 2ms/step - loss: 0.3742 - val_loss: 0.3680\n",
      "Epoch 35/50\n",
      "363/363 [==============================] - 1s 2ms/step - loss: 0.3732 - val_loss: 0.3656\n",
      "Epoch 36/50\n",
      "363/363 [==============================] - 1s 3ms/step - loss: 0.3719 - val_loss: 0.3703\n",
      "Epoch 37/50\n",
      "363/363 [==============================] - 1s 3ms/step - loss: 0.3718 - val_loss: 0.3667\n",
      "Epoch 38/50\n",
      "363/363 [==============================] - 2s 4ms/step - loss: 0.3721 - val_loss: 0.3648\n",
      "Epoch 39/50\n",
      "363/363 [==============================] - 1s 4ms/step - loss: 0.3703 - val_loss: 0.3653\n",
      "Epoch 40/50\n",
      "363/363 [==============================] - 2s 4ms/step - loss: 0.3689 - val_loss: 0.3609\n",
      "Epoch 41/50\n",
      "363/363 [==============================] - 1s 3ms/step - loss: 0.3671 - val_loss: 0.3604\n",
      "Epoch 42/50\n",
      "363/363 [==============================] - 2s 4ms/step - loss: 0.3674 - val_loss: 0.3631\n",
      "Epoch 43/50\n",
      "363/363 [==============================] - 1s 2ms/step - loss: 0.3663 - val_loss: 0.3599\n",
      "Epoch 44/50\n",
      "363/363 [==============================] - 1s 2ms/step - loss: 0.3661 - val_loss: 0.3563\n",
      "Epoch 45/50\n",
      "363/363 [==============================] - 2s 4ms/step - loss: 0.3656 - val_loss: 0.3629\n",
      "Epoch 46/50\n",
      "363/363 [==============================] - 2s 5ms/step - loss: 0.3640 - val_loss: 0.3546\n",
      "Epoch 47/50\n",
      "363/363 [==============================] - 1s 2ms/step - loss: 0.3639 - val_loss: 0.3552\n",
      "Epoch 48/50\n",
      "363/363 [==============================] - 1s 2ms/step - loss: 0.3626 - val_loss: 0.3547\n",
      "Epoch 49/50\n",
      "363/363 [==============================] - 1s 3ms/step - loss: 0.3627 - val_loss: 0.3528\n",
      "Epoch 50/50\n",
      "363/363 [==============================] - 1s 2ms/step - loss: 0.3630 - val_loss: 0.3523\n",
      "162/162 [==============================] - 0s 2ms/step - loss: 0.3301\n",
      "1/1 [==============================] - 0s 97ms/step\n"
     ]
    }
   ],
   "source": [
    "\n",
    "model = keras.models.Sequential([\n",
    "    keras.layers.Dense(30, activation = \"relu\", \n",
    "    input_shape=X_train_scaled.shape[1:]), keras.layers.Dense(1)   \n",
    "])\n",
    "model.compile(loss=\"mean_squared_error\", optimizer=\"sgd\")\n",
    "history = model.fit(X_train_scaled, y_train, epochs=50,\n",
    "                    validation_data=(X_valid_scaled, y_valid),\n",
    "                    workers=2)\n",
    "mse_test = model.evaluate(X_test_scaled, y_test)\n",
    "X_new = X_test_scaled[:3]\n",
    "y_pred = model.predict(X_new)"
   ]
  },
  {
   "cell_type": "code",
   "execution_count": 104,
   "metadata": {},
   "outputs": [
    {
     "data": {
      "text/plain": [
       "array([[2.15674  ],\n",
       "       [0.7498647],\n",
       "       [3.602102 ]], dtype=float32)"
      ]
     },
     "execution_count": 104,
     "metadata": {},
     "output_type": "execute_result"
    }
   ],
   "source": [
    "y_pred"
   ]
  },
  {
   "attachments": {},
   "cell_type": "markdown",
   "metadata": {},
   "source": [
    "## Building Complex Models Using the Functional API"
   ]
  },
  {
   "cell_type": "code",
   "execution_count": 127,
   "metadata": {},
   "outputs": [],
   "source": [
    "input = keras.layers.Input(shape=X_train.shape[1:])\n",
    "hidden1 = keras.layers.Dense(30, activation=\"relu\")(input)\n",
    "hidden2 = keras.layers.Dense(30, activation=\"relu\")(hidden1)\n",
    "hidden3 = keras.layers.Dense(30, activation=\"relu\")(hidden2)\n",
    "concat = keras.layers.Concatenate()([input, hidden3])\n",
    "output = keras.layers.Dense(1)(concat)\n",
    "model = keras.models.Model(inputs=[input], outputs=[output])"
   ]
  },
  {
   "attachments": {},
   "cell_type": "markdown",
   "metadata": {},
   "source": [
    "-Notice how layers are used like functions once they are created. For example: in hidden1, the input layer is passed in to tell the layer where to connect to\n",
    "-Concatenate is used to connect input and hidden2 layers\n"
   ]
  },
  {
   "cell_type": "code",
   "execution_count": 129,
   "metadata": {},
   "outputs": [
    {
     "name": "stdout",
     "output_type": "stream",
     "text": [
      "Epoch 1/30\n",
      "363/363 [==============================] - 2s 4ms/step - loss: 0.2995 - val_loss: 0.4650\n",
      "Epoch 2/30\n",
      "363/363 [==============================] - 1s 3ms/step - loss: 0.2985 - val_loss: 0.3288\n",
      "Epoch 3/30\n",
      "363/363 [==============================] - 1s 3ms/step - loss: 0.2972 - val_loss: 0.3268\n",
      "Epoch 4/30\n",
      "363/363 [==============================] - 1s 3ms/step - loss: 0.2950 - val_loss: 0.3550\n",
      "Epoch 5/30\n",
      "363/363 [==============================] - 1s 3ms/step - loss: 0.2939 - val_loss: 0.3314\n",
      "Epoch 6/30\n",
      "363/363 [==============================] - 1s 3ms/step - loss: 0.2965 - val_loss: 0.3226\n",
      "Epoch 7/30\n",
      "363/363 [==============================] - 1s 3ms/step - loss: 0.2925 - val_loss: 0.3987\n",
      "Epoch 8/30\n",
      "363/363 [==============================] - 1s 3ms/step - loss: 0.2918 - val_loss: 0.3790\n",
      "Epoch 9/30\n",
      "363/363 [==============================] - 1s 3ms/step - loss: 0.2909 - val_loss: 0.4383\n",
      "Epoch 10/30\n",
      "363/363 [==============================] - 1s 3ms/step - loss: 0.2900 - val_loss: 0.3962\n",
      "Epoch 11/30\n",
      "363/363 [==============================] - 1s 3ms/step - loss: 0.2883 - val_loss: 0.4447\n",
      "Epoch 12/30\n",
      "363/363 [==============================] - 1s 3ms/step - loss: 0.2997 - val_loss: 0.3469\n",
      "Epoch 13/30\n",
      "363/363 [==============================] - 1s 3ms/step - loss: 0.2887 - val_loss: 0.3451\n",
      "Epoch 14/30\n",
      "363/363 [==============================] - 1s 3ms/step - loss: 0.2858 - val_loss: 0.4384\n",
      "Epoch 15/30\n",
      "363/363 [==============================] - 1s 3ms/step - loss: 0.2937 - val_loss: 0.3666\n",
      "Epoch 16/30\n",
      "363/363 [==============================] - 1s 4ms/step - loss: 0.2877 - val_loss: 0.4378\n",
      "Epoch 17/30\n",
      "363/363 [==============================] - 1s 3ms/step - loss: 0.2851 - val_loss: 0.5843\n",
      "Epoch 18/30\n",
      "363/363 [==============================] - 1s 3ms/step - loss: 0.3192 - val_loss: 0.4572\n",
      "Epoch 19/30\n",
      "363/363 [==============================] - 1s 3ms/step - loss: 0.3002 - val_loss: 0.3750\n",
      "Epoch 20/30\n",
      "363/363 [==============================] - 1s 3ms/step - loss: 0.2825 - val_loss: 0.4903\n",
      "Epoch 21/30\n",
      "363/363 [==============================] - 1s 3ms/step - loss: 0.3009 - val_loss: 0.3846\n",
      "Epoch 22/30\n",
      "363/363 [==============================] - 1s 3ms/step - loss: 0.2887 - val_loss: 0.3558\n",
      "Epoch 23/30\n",
      "363/363 [==============================] - 1s 3ms/step - loss: 0.2805 - val_loss: 0.4689\n",
      "Epoch 24/30\n",
      "363/363 [==============================] - 1s 3ms/step - loss: 0.2815 - val_loss: 0.6571\n",
      "Epoch 25/30\n",
      "363/363 [==============================] - 1s 3ms/step - loss: 0.2818 - val_loss: 0.4832\n",
      "Epoch 26/30\n",
      "363/363 [==============================] - 1s 3ms/step - loss: 0.2985 - val_loss: 0.3784\n",
      "Epoch 27/30\n",
      "363/363 [==============================] - 1s 3ms/step - loss: 0.2831 - val_loss: 0.3408\n",
      "Epoch 28/30\n",
      "363/363 [==============================] - 1s 3ms/step - loss: 0.2780 - val_loss: 0.3364\n",
      "Epoch 29/30\n",
      "363/363 [==============================] - 1s 3ms/step - loss: 0.2789 - val_loss: 0.4838\n",
      "Epoch 30/30\n",
      "363/363 [==============================] - 1s 3ms/step - loss: 0.2954 - val_loss: 0.3694\n",
      "162/162 [==============================] - 0s 2ms/step - loss: 0.3029\n",
      "1/1 [==============================] - 0s 80ms/step\n"
     ]
    }
   ],
   "source": [
    "model.compile(loss=\"mean_squared_error\", optimizer=\"sgd\")\n",
    "history = model.fit(X_train_scaled,  y_train, epochs=30,\n",
    "                    validation_data=(X_valid_scaled, y_valid),\n",
    "                    workers=2)\n",
    "mse_test = model.evaluate(X_test_scaled, y_test)\n",
    "X_new = X_test_scaled[:3]\n",
    "y_pred = model.predict(X_new)"
   ]
  },
  {
   "attachments": {},
   "cell_type": "markdown",
   "metadata": {},
   "source": [
    "You may want to send a subset of the features through one path and a different (possibly overlapping) subset through a deep path. See below"
   ]
  },
  {
   "cell_type": "code",
   "execution_count": 150,
   "metadata": {},
   "outputs": [],
   "source": [
    "input_A = keras.layers.Input(shape=[5])\n",
    "input_B = keras.layers.Input(shape=[6])\n",
    "hidden1 = keras.layers.Dense(30, activation=\"relu\")(input_B)\n",
    "hidden2 = keras.layers.Dense(30, activation=\"relu\")(hidden1)\n",
    "concat = keras.layers.Concatenate()([input_A, hidden2])\n",
    "output = keras.layers.Dense(1)(concat)\n",
    "model = keras.models.Model(inputs=[input_A, input_B], outputs=[output])\n",
    "model.compile(loss=\"mse\", optimizer=\"sgd\")"
   ]
  },
  {
   "cell_type": "code",
   "execution_count": 152,
   "metadata": {},
   "outputs": [],
   "source": [
    "\n",
    "\n",
    "X_train_A, X_train_B = X_train_scaled[:, :5], X_train_scaled[:, 2:]\n",
    "X_valid_A, X_valid_B = X_valid_scaled[:, :5], X_valid_scaled[:, 2:]\n",
    "X_test_A, X_test_B = X_test_scaled[:, :5], X_test_scaled[:, 2:]\n",
    "X_new_A, X_new_B = X_test_A[:3], X_test_B[:3]"
   ]
  },
  {
   "cell_type": "code",
   "execution_count": null,
   "metadata": {},
   "outputs": [],
   "source": [
    "history = model.fit((X_train_A, X_train_B), y_train, epochs=20,\n",
    "                    validation_data=((X_valid_A, X_valid_B), y_valid),\n",
    "                    workers=2)\n",
    "mse_test = model.evaluate((X_test_A, X_test_B), y_test)\n",
    "y_pred = model.predict((X_new_A, X_new_B))"
   ]
  },
  {
   "cell_type": "markdown",
   "metadata": {},
   "source": [
    "You may also want multiple outputs:\n",
    "- Maybe you want to locate and classify the main object in a picture. This is a regression and classification task\n",
    "- May have multiple independent tasks to perform based on teh same data\n",
    "    - Can use same neural network for different tasks due to ability to learn features in data\n",
    "- As a regularization technique (i.e. a training constraint whose objective is to reduce overfitting and thus improve the model's ability to generalize)"
   ]
  },
  {
   "cell_type": "code",
   "execution_count": 156,
   "metadata": {},
   "outputs": [],
   "source": [
    "input_A = keras.layers.Input(shape=[5])\n",
    "input_B = keras.layers.Input(shape=[6])\n",
    "hidden1 = keras.layers.Dense(30, activation=\"relu\")(input_B)\n",
    "hidden2 = keras.layers.Dense(30, activation=\"relu\")(hidden1)\n",
    "concat = keras.layers.Concatenate()([input_A, hidden2])\n",
    "output = keras.layers.Dense(1)(concat)\n",
    "aux_output = keras.layers.Dense(1)(hidden2)\n",
    "model = keras.models.Model(inputs=[input_A, input_B], outputs=[output, aux_output])"
   ]
  },
  {
   "attachments": {},
   "cell_type": "markdown",
   "metadata": {},
   "source": [
    "Each output needs its own loss function -> need to pass a list of losses\n",
    "- We care more about the main output's loss  so will give it a much greater weight"
   ]
  },
  {
   "cell_type": "code",
   "execution_count": 157,
   "metadata": {},
   "outputs": [
    {
     "name": "stdout",
     "output_type": "stream",
     "text": [
      "Epoch 1/40\n",
      "363/363 [==============================] - 3s 6ms/step - loss: 0.9710 - dense_99_loss: 0.8329 - dense_100_loss: 2.2137 - val_loss: 0.6113 - val_dense_99_loss: 0.5345 - val_dense_100_loss: 1.3029\n",
      "Epoch 2/40\n",
      "363/363 [==============================] - 1s 3ms/step - loss: 0.5996 - dense_99_loss: 0.5341 - dense_100_loss: 1.1885 - val_loss: 0.5521 - val_dense_99_loss: 0.4933 - val_dense_100_loss: 1.0808\n",
      "Epoch 3/40\n",
      "363/363 [==============================] - 1s 4ms/step - loss: 0.5577 - dense_99_loss: 0.5057 - dense_100_loss: 1.0253 - val_loss: 0.5299 - val_dense_99_loss: 0.4820 - val_dense_100_loss: 0.9614\n",
      "Epoch 4/40\n",
      "363/363 [==============================] - 2s 4ms/step - loss: 0.5138 - dense_99_loss: 0.4702 - dense_100_loss: 0.9063 - val_loss: 0.4987 - val_dense_99_loss: 0.4595 - val_dense_100_loss: 0.8519\n",
      "Epoch 5/40\n",
      "363/363 [==============================] - 1s 3ms/step - loss: 0.4960 - dense_99_loss: 0.4609 - dense_100_loss: 0.8113 - val_loss: 0.4853 - val_dense_99_loss: 0.4530 - val_dense_100_loss: 0.7759\n",
      "Epoch 6/40\n",
      "363/363 [==============================] - 1s 3ms/step - loss: 0.4822 - dense_99_loss: 0.4519 - dense_100_loss: 0.7556 - val_loss: 0.4770 - val_dense_99_loss: 0.4487 - val_dense_100_loss: 0.7318\n",
      "Epoch 7/40\n",
      "363/363 [==============================] - 1s 3ms/step - loss: 0.4713 - dense_99_loss: 0.4440 - dense_100_loss: 0.7173 - val_loss: 0.4713 - val_dense_99_loss: 0.4440 - val_dense_100_loss: 0.7170\n",
      "Epoch 8/40\n",
      "363/363 [==============================] - 1s 3ms/step - loss: 0.4617 - dense_99_loss: 0.4368 - dense_100_loss: 0.6858 - val_loss: 0.4560 - val_dense_99_loss: 0.4311 - val_dense_100_loss: 0.6796\n",
      "Epoch 9/40\n",
      "363/363 [==============================] - 1s 3ms/step - loss: 0.4595 - dense_99_loss: 0.4369 - dense_100_loss: 0.6627 - val_loss: 0.4554 - val_dense_99_loss: 0.4319 - val_dense_100_loss: 0.6661\n",
      "Epoch 10/40\n",
      "363/363 [==============================] - 1s 4ms/step - loss: 0.4495 - dense_99_loss: 0.4263 - dense_100_loss: 0.6582 - val_loss: 0.4537 - val_dense_99_loss: 0.4309 - val_dense_100_loss: 0.6589\n",
      "Epoch 11/40\n",
      "363/363 [==============================] - 1s 3ms/step - loss: 0.4421 - dense_99_loss: 0.4207 - dense_100_loss: 0.6349 - val_loss: 0.4367 - val_dense_99_loss: 0.4144 - val_dense_100_loss: 0.6376\n",
      "Epoch 12/40\n",
      "363/363 [==============================] - 1s 4ms/step - loss: 0.4347 - dense_99_loss: 0.4137 - dense_100_loss: 0.6233 - val_loss: 0.4323 - val_dense_99_loss: 0.4104 - val_dense_100_loss: 0.6287\n",
      "Epoch 13/40\n",
      "363/363 [==============================] - 1s 3ms/step - loss: 0.4284 - dense_99_loss: 0.4081 - dense_100_loss: 0.6115 - val_loss: 0.4232 - val_dense_99_loss: 0.4019 - val_dense_100_loss: 0.6147\n",
      "Epoch 14/40\n",
      "363/363 [==============================] - 1s 3ms/step - loss: 0.4198 - dense_99_loss: 0.3993 - dense_100_loss: 0.6045 - val_loss: 0.4180 - val_dense_99_loss: 0.3973 - val_dense_100_loss: 0.6043\n",
      "Epoch 15/40\n",
      "363/363 [==============================] - 1s 3ms/step - loss: 0.4147 - dense_99_loss: 0.3951 - dense_100_loss: 0.5914 - val_loss: 0.4179 - val_dense_99_loss: 0.3980 - val_dense_100_loss: 0.5964\n",
      "Epoch 16/40\n",
      "363/363 [==============================] - 1s 4ms/step - loss: 0.4154 - dense_99_loss: 0.3974 - dense_100_loss: 0.5774 - val_loss: 0.4068 - val_dense_99_loss: 0.3877 - val_dense_100_loss: 0.5791\n",
      "Epoch 17/40\n",
      "363/363 [==============================] - 1s 4ms/step - loss: 0.4024 - dense_99_loss: 0.3841 - dense_100_loss: 0.5669 - val_loss: 0.4020 - val_dense_99_loss: 0.3832 - val_dense_100_loss: 0.5721\n",
      "Epoch 18/40\n",
      "363/363 [==============================] - 1s 3ms/step - loss: 0.4035 - dense_99_loss: 0.3865 - dense_100_loss: 0.5569 - val_loss: 0.3954 - val_dense_99_loss: 0.3771 - val_dense_100_loss: 0.5605\n",
      "Epoch 19/40\n",
      "363/363 [==============================] - 1s 3ms/step - loss: 0.3957 - dense_99_loss: 0.3788 - dense_100_loss: 0.5474 - val_loss: 0.3929 - val_dense_99_loss: 0.3750 - val_dense_100_loss: 0.5535\n",
      "Epoch 20/40\n",
      "363/363 [==============================] - 1s 3ms/step - loss: 0.3916 - dense_99_loss: 0.3751 - dense_100_loss: 0.5399 - val_loss: 0.3843 - val_dense_99_loss: 0.3665 - val_dense_100_loss: 0.5441\n",
      "Epoch 21/40\n",
      "363/363 [==============================] - 1s 3ms/step - loss: 0.3872 - dense_99_loss: 0.3715 - dense_100_loss: 0.5291 - val_loss: 0.3806 - val_dense_99_loss: 0.3631 - val_dense_100_loss: 0.5381\n",
      "Epoch 22/40\n",
      "363/363 [==============================] - 1s 3ms/step - loss: 0.3859 - dense_99_loss: 0.3707 - dense_100_loss: 0.5224 - val_loss: 0.3945 - val_dense_99_loss: 0.3788 - val_dense_100_loss: 0.5357\n",
      "Epoch 23/40\n",
      "363/363 [==============================] - 2s 4ms/step - loss: 0.3753 - dense_99_loss: 0.3601 - dense_100_loss: 0.5119 - val_loss: 0.3822 - val_dense_99_loss: 0.3659 - val_dense_100_loss: 0.5295\n",
      "Epoch 24/40\n",
      "363/363 [==============================] - 1s 3ms/step - loss: 0.3789 - dense_99_loss: 0.3647 - dense_100_loss: 0.5067 - val_loss: 0.3739 - val_dense_99_loss: 0.3581 - val_dense_100_loss: 0.5167\n",
      "Epoch 25/40\n",
      "363/363 [==============================] - 1s 3ms/step - loss: 0.3763 - dense_99_loss: 0.3626 - dense_100_loss: 0.4989 - val_loss: 0.3697 - val_dense_99_loss: 0.3545 - val_dense_100_loss: 0.5067\n",
      "Epoch 26/40\n",
      "363/363 [==============================] - 1s 3ms/step - loss: 0.3640 - dense_99_loss: 0.3500 - dense_100_loss: 0.4896 - val_loss: 0.3652 - val_dense_99_loss: 0.3504 - val_dense_100_loss: 0.4987\n",
      "Epoch 27/40\n",
      "363/363 [==============================] - 2s 4ms/step - loss: 0.3652 - dense_99_loss: 0.3520 - dense_100_loss: 0.4842 - val_loss: 0.3663 - val_dense_99_loss: 0.3523 - val_dense_100_loss: 0.4923\n",
      "Epoch 28/40\n",
      "363/363 [==============================] - 1s 4ms/step - loss: 0.3639 - dense_99_loss: 0.3509 - dense_100_loss: 0.4802 - val_loss: 0.3667 - val_dense_99_loss: 0.3532 - val_dense_100_loss: 0.4888\n",
      "Epoch 29/40\n",
      "363/363 [==============================] - 1s 3ms/step - loss: 0.3605 - dense_99_loss: 0.3477 - dense_100_loss: 0.4756 - val_loss: 0.3587 - val_dense_99_loss: 0.3454 - val_dense_100_loss: 0.4781\n",
      "Epoch 30/40\n",
      "363/363 [==============================] - 1s 3ms/step - loss: 0.3762 - dense_99_loss: 0.3644 - dense_100_loss: 0.4819 - val_loss: 0.3603 - val_dense_99_loss: 0.3461 - val_dense_100_loss: 0.4879\n",
      "Epoch 31/40\n",
      "363/363 [==============================] - 1s 3ms/step - loss: 0.3645 - dense_99_loss: 0.3533 - dense_100_loss: 0.4660 - val_loss: 0.3668 - val_dense_99_loss: 0.3542 - val_dense_100_loss: 0.4800\n",
      "Epoch 32/40\n",
      "363/363 [==============================] - 1s 3ms/step - loss: 0.3522 - dense_99_loss: 0.3404 - dense_100_loss: 0.4587 - val_loss: 0.3555 - val_dense_99_loss: 0.3422 - val_dense_100_loss: 0.4757\n",
      "Epoch 33/40\n",
      "363/363 [==============================] - 1s 4ms/step - loss: 0.3513 - dense_99_loss: 0.3398 - dense_100_loss: 0.4544 - val_loss: 0.3510 - val_dense_99_loss: 0.3386 - val_dense_100_loss: 0.4631\n",
      "Epoch 34/40\n",
      "363/363 [==============================] - 1s 4ms/step - loss: 0.3541 - dense_99_loss: 0.3436 - dense_100_loss: 0.4493 - val_loss: 0.3502 - val_dense_99_loss: 0.3381 - val_dense_100_loss: 0.4589\n",
      "Epoch 35/40\n",
      "363/363 [==============================] - 1s 4ms/step - loss: 0.3495 - dense_99_loss: 0.3386 - dense_100_loss: 0.4477 - val_loss: 0.3557 - val_dense_99_loss: 0.3446 - val_dense_100_loss: 0.4558\n",
      "Epoch 36/40\n",
      "363/363 [==============================] - 1s 3ms/step - loss: 0.3478 - dense_99_loss: 0.3371 - dense_100_loss: 0.4440 - val_loss: 0.3611 - val_dense_99_loss: 0.3501 - val_dense_100_loss: 0.4600\n",
      "Epoch 37/40\n",
      "363/363 [==============================] - 1s 4ms/step - loss: 0.3535 - dense_99_loss: 0.3430 - dense_100_loss: 0.4485 - val_loss: 0.3551 - val_dense_99_loss: 0.3435 - val_dense_100_loss: 0.4595\n",
      "Epoch 38/40\n",
      "363/363 [==============================] - 2s 5ms/step - loss: 0.3487 - dense_99_loss: 0.3383 - dense_100_loss: 0.4422 - val_loss: 0.3613 - val_dense_99_loss: 0.3503 - val_dense_100_loss: 0.4609\n",
      "Epoch 39/40\n",
      "363/363 [==============================] - 2s 6ms/step - loss: 0.3443 - dense_99_loss: 0.3342 - dense_100_loss: 0.4349 - val_loss: 0.3604 - val_dense_99_loss: 0.3504 - val_dense_100_loss: 0.4501\n",
      "Epoch 40/40\n",
      "363/363 [==============================] - 1s 4ms/step - loss: 0.3460 - dense_99_loss: 0.3362 - dense_100_loss: 0.4340 - val_loss: 0.3583 - val_dense_99_loss: 0.3479 - val_dense_100_loss: 0.4522\n"
     ]
    }
   ],
   "source": [
    "model.compile(loss=[\"mse\", \"mse\"], loss_weights=[0.9, 0.1], optimizer=\"sgd\")\n",
    "history = model.fit(\n",
    "        [X_train_A, X_train_B], [y_train, y_train], epochs=40,\n",
    "        validation_data=([X_valid_A, X_valid_B], [y_valid, y_valid]),\n",
    "        workers=2)"
   ]
  },
  {
   "cell_type": "code",
   "execution_count": 158,
   "metadata": {},
   "outputs": [
    {
     "data": {
      "image/png": "[encoded data removed]",
      "text/plain": [
       "<IPython.core.display.Image object>"
      ]
     },
     "execution_count": 158,
     "metadata": {},
     "output_type": "execute_result"
    }
   ],
   "source": [
    "tf.keras.utils.plot_model(model)"
   ]
  },
  {
   "cell_type": "code",
   "execution_count": 159,
   "metadata": {},
   "outputs": [
    {
     "name": "stdout",
     "output_type": "stream",
     "text": [
      "162/162 [==============================] - 0s 3ms/step - loss: 0.3491 - dense_99_loss: 0.3406 - dense_100_loss: 0.4259\n",
      "1/1 [==============================] - 0s 99ms/step\n"
     ]
    }
   ],
   "source": [
    "total_loss, main_loss, aux_loss = model.evaluate(\n",
    "    [X_test_A, X_test_B], [y_test, y_test])\n",
    "y_pred_main, y_pred_aux = model.predict([X_new_A, X_new_B])"
   ]
  },
  {
   "attachments": {},
   "cell_type": "markdown",
   "metadata": {},
   "source": [
    "# Building Dynamic Models Using the Subclassing API\n",
    "- Sequential and Functional API are declarative: declare which layers to use and connections -> start feeding model data\n",
    "- Advantages: model can easily be saved, cloned, shared, its structure displayed and analyzed, errors can be caught early, easy to debug\n",
    "- Disadvantages: its static\n",
    "- Using Subclassing API, can add loops, varying shapes, conditional branching and other dynamic behaviors"
   ]
  },
  {
   "cell_type": "code",
   "execution_count": null,
   "metadata": {},
   "outputs": [],
   "source": []
  }
 ],
 "metadata": {
  "kernelspec": {
   "display_name": "robostackenv",
   "language": "python",
   "name": "python3"
  },
  "language_info": {
   "codemirror_mode": {
    "name": "ipython",
    "version": 3
   },
   "file_extension": ".py",
   "mimetype": "text/x-python",
   "name": "python",
   "nbconvert_exporter": "python",
   "pygments_lexer": "ipython3",
   "version": "3.9.15"
  },
  "orig_nbformat": 4
 },
 "nbformat": 4,
 "nbformat_minor": 2
}
